{
 "cells": [
  {
   "cell_type": "markdown",
   "source": [
    "# VGG16 Assignment\n",
    "\n",
    "## Dataset download\n",
    "run the following code to download the Cifar-10 dataset"
   ],
   "metadata": {
    "collapsed": false
   }
  },
  {
   "cell_type": "code",
   "execution_count": null,
   "outputs": [],
   "source": [
    "from tensorflow.keras.datasets import cifar10\n",
    "\n",
    "(x_train, y_train), (x_test, y_test) = cifar10.load_data()"
   ],
   "metadata": {
    "collapsed": false,
    "pycharm": {
     "name": "#%%\n"
    }
   }
  },
  {
   "cell_type": "markdown",
   "source": [
    "## Data generator\n",
    "Datasets are often too big for our computer.\n",
    "Therefore we need a generator to load small parts of our dataset to reduce memory cost."
   ],
   "metadata": {
    "collapsed": false
   }
  },
  {
   "cell_type": "code",
   "execution_count": null,
   "outputs": [],
   "source": [
    "def data_generator(input_data, labels, batch_size):\n",
    "\n",
    "    while True:\n",
    "        for i in range(0, len(input_data), batch_size):\n",
    "            batch_x = input_data[i:i+batch_size, :, :, :]\n",
    "            batch_y = labels[i:i+batch_size, :]\n",
    "\n",
    "            yield batch_x, batch_y"
   ],
   "metadata": {
    "collapsed": false,
    "pycharm": {
     "name": "#%%\n"
    }
   }
  },
  {
   "cell_type": "markdown",
   "source": [
    "## The VGG-16 model\n",
    "\n",
    "The VGG-16 model is a very famous model when classifying images.\n",
    "it's consisted with 5 convolution blocks and 3 fully connected layers.\n",
    "Refer the next figure for the model structure\n",
    "\n",
    "![](./img/vgg16_figure.png)"
   ],
   "metadata": {
    "collapsed": false,
    "pycharm": {
     "name": "#%% md\n"
    }
   }
  },
  {
   "cell_type": "code",
   "execution_count": null,
   "outputs": [],
   "source": [
    "# You can import all the things you need\n",
    "\n",
    "import tensorflow as tf\n",
    "\n",
    "class Vgg16:\n",
    "\n",
    "    def __init__(self, input_shape=(0, 0), num_classes=10, batch_size=64, epochs=20):\n",
    "        self.input_shape = input_shape\n",
    "        self.num_classes = num_classes\n",
    "        self.batch_size = batch_size\n",
    "        self.epochs = epochs\n",
    "\n",
    "    def model(self):\n",
    "\n",
    "        ############################################\n",
    "        #              YOUR CODE HERE              #\n",
    "        ############################################\n",
    "\n",
    "        pass\n",
    "\n",
    "        ############################################\n",
    "        #            YOUR CODE ENDS HERE           #\n",
    "        ############################################\n",
    "\n",
    "    def fit(self):\n",
    "        model = self.model()\n",
    "\n",
    "        model.compile(optimizer=tf.keras.optimizers.Adam(learning_rate=0.001), loss=\"categorical_crossentropy\", metrics=[\"accuracy\"])\n",
    "\n",
    "        model.fit(data_generator(x_train, y_train, batch_size=self.batch_size), epochs=self.epochs,\n",
    "                  verbose=1, steps_per_epoch=y_train.shape[0]//self.batch_size)\n",
    "\n",
    "        model.save(\"vgg16.h5\")"
   ],
   "metadata": {
    "collapsed": false,
    "pycharm": {
     "name": "#%%\n"
    }
   }
  },
  {
   "cell_type": "markdown",
   "source": [
    "## Training our model\n",
    "\n",
    "Run the following code to train the network.\n",
    "The weights are saved in vgg16.h5"
   ],
   "metadata": {
    "collapsed": false,
    "pycharm": {
     "name": "#%% md\n"
    }
   }
  },
  {
   "cell_type": "code",
   "execution_count": null,
   "outputs": [],
   "source": [
    "vgg16 = Vgg16(input_shape=(32,32,3))\n",
    "vgg16.fit()"
   ],
   "metadata": {
    "collapsed": false,
    "pycharm": {
     "name": "#%%\n"
    }
   }
  },
  {
   "cell_type": "markdown",
   "source": [
    "## Model evaluation\n",
    "Load the vgg16.h5 file to evaluate our network."
   ],
   "metadata": {
    "collapsed": false,
    "pycharm": {
     "name": "#%% md\n"
    }
   }
  },
  {
   "cell_type": "code",
   "execution_count": 9,
   "outputs": [
    {
     "name": "stdout",
     "output_type": "stream",
     "text": [
      "deer\n"
     ]
    },
    {
     "data": {
      "text/plain": "<Figure size 432x288 with 1 Axes>",
      "image/png": "[encoded data removed]"
     },
     "metadata": {
      "needs_background": "light"
     },
     "output_type": "display_data"
    }
   ],
   "source": [
    "from tensorflow import keras\n",
    "from tensorflow.keras.datasets import cifar10\n",
    "import random\n",
    "import numpy as np\n",
    "import matplotlib.pyplot as plt\n",
    "\n",
    "cifar10_labels = np.array([\n",
    "    'airplane',\n",
    "    'automobile',\n",
    "    'bird',\n",
    "    'cat',\n",
    "    'deer',\n",
    "    'dog',\n",
    "    'frog',\n",
    "    'horse',\n",
    "    'ship',\n",
    "    'truck'])\n",
    "\n",
    "(x_train, y_train), (x_test, y_test) = cifar10.load_data()\n",
    "\n",
    "model = keras.models.load_model(\"vgg16.h5\")\n",
    "test_image = x_test[random.randint(0,x_test.shape[0])]\n",
    "plt.imshow(test_image)\n",
    "print(cifar10_labels[np.argmax(model.predict(test_image.reshape((1,32,32,3))))])\n",
    "plt.show()"
   ],
   "metadata": {
    "collapsed": false,
    "pycharm": {
     "name": "#%%\n"
    }
   }
  },
  {
   "cell_type": "code",
   "execution_count": null,
   "outputs": [],
   "source": [],
   "metadata": {
    "collapsed": false,
    "pycharm": {
     "name": "#%%\n"
    }
   }
  }
 ],
 "metadata": {
  "kernelspec": {
   "display_name": "Python 3",
   "language": "python",
   "name": "python3"
  },
  "language_info": {
   "codemirror_mode": {
    "name": "ipython",
    "version": 2
   },
   "file_extension": ".py",
   "mimetype": "text/x-python",
   "name": "python",
   "nbconvert_exporter": "python",
   "pygments_lexer": "ipython2",
   "version": "2.7.6"
  }
 },
 "nbformat": 4,
 "nbformat_minor": 0
}